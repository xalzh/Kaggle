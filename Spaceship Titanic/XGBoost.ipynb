{
 "cells": [
  {
   "cell_type": "code",
   "execution_count": 14,
   "metadata": {
    "collapsed": true,
    "ExecuteTime": {
     "start_time": "2023-08-05T18:36:18.834797Z",
     "end_time": "2023-08-05T18:36:18.844764Z"
    }
   },
   "outputs": [],
   "source": [
    "import pandas as pd\n",
    "from sklearn.preprocessing import LabelEncoder\n",
    "import xgboost as xgb\n",
    "from sklearn.metrics import accuracy_score\n",
    "from sklearn.model_selection import train_test_split"
   ]
  },
  {
   "cell_type": "code",
   "execution_count": 15,
   "outputs": [
    {
     "name": "stdout",
     "output_type": "stream",
     "text": [
      "<class 'pandas.core.frame.DataFrame'>\n",
      "RangeIndex: 8693 entries, 0 to 8692\n",
      "Data columns (total 12 columns):\n",
      " #   Column        Non-Null Count  Dtype  \n",
      "---  ------        --------------  -----  \n",
      " 0   HomePlanet    8693 non-null   float64\n",
      " 1   CryoSleep     8476 non-null   float64\n",
      " 2   Cabin         8693 non-null   float64\n",
      " 3   Destination   8693 non-null   float64\n",
      " 4   Age           8514 non-null   float64\n",
      " 5   VIP           8490 non-null   float64\n",
      " 6   RoomService   8512 non-null   float64\n",
      " 7   FoodCourt     8510 non-null   float64\n",
      " 8   ShoppingMall  8485 non-null   float64\n",
      " 9   Spa           8510 non-null   float64\n",
      " 10  VRDeck        8505 non-null   float64\n",
      " 11  Transported   8693 non-null   float64\n",
      "dtypes: float64(12)\n",
      "memory usage: 815.1 KB\n"
     ]
    }
   ],
   "source": [
    "# Importing the training dataset from the CSV\n",
    "dataset = pd.read_csv('train.csv')\n",
    "dataset = dataset.drop(['PassengerId', 'Name'], axis=1)\n",
    "dataset['CryoSleep'] = dataset['CryoSleep'].astype(float)\n",
    "dataset['VIP'] = dataset['VIP'].astype(float)\n",
    "dataset['Transported'] = dataset['Transported'].astype(float)\n",
    "label_encoders = {}\n",
    "# Encoding categorical columns ('HomePlanet', 'Cabin', 'Destination') to numeric values\n",
    "for column in ['HomePlanet', 'Cabin', 'Destination']:\n",
    "    le = LabelEncoder()\n",
    "    dataset[column] = le.fit_transform(dataset[column]).astype(float)\n",
    "    label_encoders[column] = le\n",
    "dataset.info()"
   ],
   "metadata": {
    "collapsed": false,
    "ExecuteTime": {
     "start_time": "2023-08-05T18:36:19.233608Z",
     "end_time": "2023-08-05T18:36:19.274471Z"
    }
   }
  },
  {
   "cell_type": "code",
   "execution_count": 16,
   "outputs": [],
   "source": [
    "X = dataset.drop('Transported', axis=1)\n",
    "y = dataset['Transported']\n",
    "# Splitting the dataset into training and validation sets:\n",
    "X_train, X_val, y_train, y_val = train_test_split(X, y, test_size=0.2, random_state=42)"
   ],
   "metadata": {
    "collapsed": false,
    "ExecuteTime": {
     "start_time": "2023-08-05T18:36:19.729949Z",
     "end_time": "2023-08-05T18:36:19.784766Z"
    }
   }
  },
  {
   "cell_type": "code",
   "execution_count": 17,
   "outputs": [
    {
     "name": "stdout",
     "output_type": "stream",
     "text": [
      "[0]\teval-logloss:0.58963\ttrain-logloss:0.58147\n",
      "[1]\teval-logloss:0.53236\ttrain-logloss:0.51644\n",
      "[2]\teval-logloss:0.49716\ttrain-logloss:0.47635\n",
      "[3]\teval-logloss:0.47519\ttrain-logloss:0.44746\n",
      "[4]\teval-logloss:0.45923\ttrain-logloss:0.42662\n",
      "[5]\teval-logloss:0.44981\ttrain-logloss:0.41181\n",
      "[6]\teval-logloss:0.44085\ttrain-logloss:0.40050\n",
      "[7]\teval-logloss:0.43577\ttrain-logloss:0.38783\n",
      "[8]\teval-logloss:0.43246\ttrain-logloss:0.37933\n",
      "[9]\teval-logloss:0.42852\ttrain-logloss:0.37044\n",
      "[10]\teval-logloss:0.42717\ttrain-logloss:0.36639\n",
      "[11]\teval-logloss:0.42706\ttrain-logloss:0.36307\n",
      "[12]\teval-logloss:0.42515\ttrain-logloss:0.35456\n",
      "[13]\teval-logloss:0.42385\ttrain-logloss:0.35152\n",
      "[14]\teval-logloss:0.42325\ttrain-logloss:0.34877\n",
      "Accuracy: 79.99%\n"
     ]
    },
    {
     "name": "stderr",
     "output_type": "stream",
     "text": [
      "C:\\Users\\xalzh\\AppData\\Local\\Programs\\Python\\Python310\\lib\\site-packages\\xgboost\\core.py:617: FutureWarning: Pass `evals` as keyword args.\n",
      "  warnings.warn(msg, FutureWarning)\n",
      "C:\\Users\\xalzh\\AppData\\Local\\Programs\\Python\\Python310\\lib\\site-packages\\xgboost\\core.py:122: UserWarning: ntree_limit is deprecated, use `iteration_range` or model slicing instead.\n",
      "  warnings.warn(\n"
     ]
    }
   ],
   "source": [
    "# Convert training and validation sets into DMatrix format, which is optimized for XGBoost\n",
    "dtrain = xgb.DMatrix(X_train, label=y_train)\n",
    "dval = xgb.DMatrix(X_val, label=y_val)\n",
    "# Define hyperparameters for the XGBoost model\n",
    "param = {\n",
    "    'objective': 'binary:logistic',\n",
    "    'tree_method': 'gpu_hist',\n",
    "    'eval_metric': ['logloss']\n",
    "}\n",
    "num_round = 15\n",
    "evallist = [(dval, 'eval'), (dtrain, 'train')]\n",
    "bst = xgb.train(param, dtrain, num_round, evallist, early_stopping_rounds=10)\n",
    "y_pred_val = bst.predict(dval, ntree_limit=bst.best_ntree_limit)\n",
    "y_pred_binary = [1 if prob > 0.5 else 0 for prob in y_pred_val]\n",
    "\n",
    "accuracy = accuracy_score(y_val, y_pred_binary)\n",
    "print(f\"Accuracy: {accuracy * 100:.2f}%\")"
   ],
   "metadata": {
    "collapsed": false,
    "ExecuteTime": {
     "start_time": "2023-08-05T18:36:20.714656Z",
     "end_time": "2023-08-05T18:36:20.896049Z"
    }
   }
  },
  {
   "cell_type": "code",
   "execution_count": 18,
   "outputs": [
    {
     "name": "stdout",
     "output_type": "stream",
     "text": [
      "<class 'pandas.core.frame.DataFrame'>\n",
      "RangeIndex: 4277 entries, 0 to 4276\n",
      "Data columns (total 12 columns):\n",
      " #   Column        Non-Null Count  Dtype  \n",
      "---  ------        --------------  -----  \n",
      " 0   HomePlanet    4277 non-null   float64\n",
      " 1   CryoSleep     4184 non-null   float64\n",
      " 2   Cabin         4277 non-null   float64\n",
      " 3   Destination   4277 non-null   float64\n",
      " 4   Age           4186 non-null   float64\n",
      " 5   VIP           4184 non-null   float64\n",
      " 6   RoomService   4195 non-null   float64\n",
      " 7   FoodCourt     4171 non-null   float64\n",
      " 8   ShoppingMall  4179 non-null   float64\n",
      " 9   Spa           4176 non-null   float64\n",
      " 10  VRDeck        4197 non-null   float64\n",
      " 11  Transported   0 non-null      float64\n",
      "dtypes: float64(12)\n",
      "memory usage: 401.1 KB\n"
     ]
    },
    {
     "data": {
      "text/plain": "  PassengerId  Transported\n0     0013_01         True\n1     0018_01        False\n2     0019_01         True\n3     0021_01         True\n4     0023_01         True",
      "text/html": "<div>\n<style scoped>\n    .dataframe tbody tr th:only-of-type {\n        vertical-align: middle;\n    }\n\n    .dataframe tbody tr th {\n        vertical-align: top;\n    }\n\n    .dataframe thead th {\n        text-align: right;\n    }\n</style>\n<table border=\"1\" class=\"dataframe\">\n  <thead>\n    <tr style=\"text-align: right;\">\n      <th></th>\n      <th>PassengerId</th>\n      <th>Transported</th>\n    </tr>\n  </thead>\n  <tbody>\n    <tr>\n      <th>0</th>\n      <td>0013_01</td>\n      <td>True</td>\n    </tr>\n    <tr>\n      <th>1</th>\n      <td>0018_01</td>\n      <td>False</td>\n    </tr>\n    <tr>\n      <th>2</th>\n      <td>0019_01</td>\n      <td>True</td>\n    </tr>\n    <tr>\n      <th>3</th>\n      <td>0021_01</td>\n      <td>True</td>\n    </tr>\n    <tr>\n      <th>4</th>\n      <td>0023_01</td>\n      <td>True</td>\n    </tr>\n  </tbody>\n</table>\n</div>"
     },
     "execution_count": 18,
     "metadata": {},
     "output_type": "execute_result"
    }
   ],
   "source": [
    "# Importing the test dataset from the CSV\n",
    "testset = pd.read_csv('test.csv')\n",
    "testset = testset.drop(['PassengerId', 'Name'], axis=1)\n",
    "testset['CryoSleep'] = testset['CryoSleep'].astype(float)\n",
    "testset['VIP'] = testset['VIP'].astype(float)\n",
    "testset['Transported'] = testset['Transported'].astype(float)\n",
    "label_encoders = {}\n",
    "for column in ['HomePlanet', 'Cabin', 'Destination']:\n",
    "    le = LabelEncoder()\n",
    "    testset[column] = le.fit_transform(testset[column]).astype(float)\n",
    "    label_encoders[column] = le\n",
    "testset.info()\n",
    "dtest = xgb.DMatrix(testset.drop('Transported', axis=1))\n",
    "y_pred_test = bst.predict(dtest)\n",
    "y_pred_binary = [True if prob > 0.5 else False for prob in y_pred_test]\n",
    "\n",
    "sample_submission_df = pd.read_csv('sample_submission.csv')\n",
    "sample_submission_df['Transported'] = y_pred_binary\n",
    "sample_submission_df.to_csv('sample_submission.csv', index=False)\n",
    "sample_submission_df.head()"
   ],
   "metadata": {
    "collapsed": false,
    "ExecuteTime": {
     "start_time": "2023-08-05T18:36:21.998365Z",
     "end_time": "2023-08-05T18:36:22.048198Z"
    }
   }
  },
  {
   "cell_type": "code",
   "execution_count": null,
   "outputs": [],
   "source": [],
   "metadata": {
    "collapsed": false
   }
  }
 ],
 "metadata": {
  "kernelspec": {
   "display_name": "Python 3",
   "language": "python",
   "name": "python3"
  },
  "language_info": {
   "codemirror_mode": {
    "name": "ipython",
    "version": 2
   },
   "file_extension": ".py",
   "mimetype": "text/x-python",
   "name": "python",
   "nbconvert_exporter": "python",
   "pygments_lexer": "ipython2",
   "version": "2.7.6"
  }
 },
 "nbformat": 4,
 "nbformat_minor": 0
}
