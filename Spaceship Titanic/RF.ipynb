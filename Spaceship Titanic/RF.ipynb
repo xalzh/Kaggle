{
 "cells": [
  {
   "cell_type": "code",
   "execution_count": 8,
   "metadata": {
    "collapsed": true,
    "ExecuteTime": {
     "start_time": "2023-08-05T21:21:53.415446Z",
     "end_time": "2023-08-05T21:21:53.445345Z"
    }
   },
   "outputs": [],
   "source": [
    "import pandas as pd\n",
    "import torch\n",
    "from sklearn.model_selection import train_test_split\n",
    "from sklearn.preprocessing import LabelEncoder\n",
    "from sklearn.metrics import accuracy_score\n",
    "from sklearn.ensemble import RandomForestClassifier\n",
    "from sklearn.model_selection import GridSearchCV"
   ]
  },
  {
   "cell_type": "code",
   "execution_count": 9,
   "outputs": [
    {
     "name": "stdout",
     "output_type": "stream",
     "text": [
      "<class 'pandas.core.frame.DataFrame'>\n",
      "RangeIndex: 8693 entries, 0 to 8692\n",
      "Data columns (total 12 columns):\n",
      " #   Column        Non-Null Count  Dtype  \n",
      "---  ------        --------------  -----  \n",
      " 0   HomePlanet    8693 non-null   float64\n",
      " 1   CryoSleep     8693 non-null   float64\n",
      " 2   Cabin         8693 non-null   float64\n",
      " 3   Destination   8693 non-null   float64\n",
      " 4   Age           8693 non-null   float64\n",
      " 5   VIP           8693 non-null   float64\n",
      " 6   RoomService   8693 non-null   float64\n",
      " 7   FoodCourt     8693 non-null   float64\n",
      " 8   ShoppingMall  8693 non-null   float64\n",
      " 9   Spa           8693 non-null   float64\n",
      " 10  VRDeck        8693 non-null   float64\n",
      " 11  Transported   8693 non-null   float64\n",
      "dtypes: float64(12)\n",
      "memory usage: 815.1 KB\n"
     ]
    }
   ],
   "source": [
    "dataset = pd.read_csv('train.csv')\n",
    "# Drop irrelevant data labels into the training\n",
    "dataset = dataset.drop(['PassengerId', 'Name'], axis=1)\n",
    "# Convert number to float type\n",
    "dataset['CryoSleep'] = dataset['CryoSleep'].astype(float)\n",
    "dataset['VIP'] = dataset['VIP'].astype(float)\n",
    "dataset['Transported'] = dataset['Transported'].astype(float)\n",
    "label_encoders = {}\n",
    "# Encoding categorical columns ('HomePlanet', 'Cabin', 'Destination') to numeric values\n",
    "for column in ['HomePlanet', 'Cabin', 'Destination']:\n",
    "    le = LabelEncoder()\n",
    "    dataset[column] = le.fit_transform(dataset[column]).astype(float)\n",
    "    label_encoders[column] = le\n",
    "dataset.fillna(0, inplace=True)\n",
    "dataset.info()\n",
    "# Splitting the dataset into features and target variable\n",
    "X = dataset.drop(\"Transported\", axis=1).values\n",
    "y = dataset[\"Transported\"].values\n",
    "X_train, X_val, y_train, y_val = train_test_split(X, y, test_size=0.3, random_state=42)\n",
    "X_train = torch.tensor(X_train, dtype=torch.float32)\n",
    "y_train = torch.tensor(y_train, dtype=torch.float32)\n",
    "X_val = torch.tensor(X_val, dtype=torch.float32)\n",
    "y_val = torch.tensor(y_val, dtype=torch.float32)"
   ],
   "metadata": {
    "collapsed": false,
    "ExecuteTime": {
     "start_time": "2023-08-05T21:21:53.760293Z",
     "end_time": "2023-08-05T21:21:53.817103Z"
    }
   }
  },
  {
   "cell_type": "code",
   "execution_count": 3,
   "outputs": [
    {
     "name": "stdout",
     "output_type": "stream",
     "text": [
      "Fitting 5 folds for each of 72 candidates, totalling 360 fits\n"
     ]
    },
    {
     "name": "stderr",
     "output_type": "stream",
     "text": [
      "C:\\Users\\xalzh\\AppData\\Local\\Programs\\Python\\Python310\\lib\\site-packages\\sklearn\\ensemble\\_forest.py:424: FutureWarning: `max_features='auto'` has been deprecated in 1.1 and will be removed in 1.3. To keep the past behaviour, explicitly set `max_features='sqrt'` or remove this parameter as it is also the default value for RandomForestClassifiers and ExtraTreesClassifiers.\n",
      "  warn(\n"
     ]
    },
    {
     "name": "stdout",
     "output_type": "stream",
     "text": [
      "Best Hyperparameters: {'max_depth': 10, 'max_features': 'auto', 'min_samples_leaf': 1, 'n_estimators': 100}\n",
      "Best Score (Mean Cross-Validation Accuracy): 0.8027937551355793\n"
     ]
    }
   ],
   "source": [
    "# Defining a grid of hyperparameters for the random forest classifier\n",
    "param_grid = {\n",
    "    'n_estimators': [100, 500, 1000],\n",
    "    'max_depth': [None, 10, 20, 30],\n",
    "    'min_samples_leaf': [1, 5, 10],\n",
    "    'max_features': ['auto', 'sqrt']\n",
    "}\n",
    "# Initializing GridSearchCV with the random forest classifier and the hyperparameters grid\n",
    "grid_search = GridSearchCV(estimator=RandomForestClassifier(random_state=42),\n",
    "                           param_grid=param_grid,\n",
    "                           cv=5,\n",
    "                           verbose=2,\n",
    "                           n_jobs=-1)\n",
    "grid_search.fit(X_train, y_train)\n",
    "best_params = grid_search.best_params_\n",
    "best_score = grid_search.best_score_\n",
    "print(f\"Best Hyperparameters: {best_params}\")\n",
    "print(f\"Best Score (Mean Cross-Validation Accuracy): {best_score}\")"
   ],
   "metadata": {
    "collapsed": false,
    "ExecuteTime": {
     "start_time": "2023-08-05T21:18:45.068090Z",
     "end_time": "2023-08-05T21:19:58.109904Z"
    }
   }
  },
  {
   "cell_type": "code",
   "execution_count": 4,
   "outputs": [
    {
     "name": "stdout",
     "output_type": "stream",
     "text": [
      "Fitting 5 folds for each of 150 candidates, totalling 750 fits\n"
     ]
    },
    {
     "name": "stderr",
     "output_type": "stream",
     "text": [
      "C:\\Users\\xalzh\\AppData\\Local\\Programs\\Python\\Python310\\lib\\site-packages\\sklearn\\ensemble\\_forest.py:424: FutureWarning: `max_features='auto'` has been deprecated in 1.1 and will be removed in 1.3. To keep the past behaviour, explicitly set `max_features='sqrt'` or remove this parameter as it is also the default value for RandomForestClassifiers and ExtraTreesClassifiers.\n",
      "  warn(\n"
     ]
    },
    {
     "name": "stdout",
     "output_type": "stream",
     "text": [
      "Best Hyperparameters: {'max_depth': 10, 'max_features': 'auto', 'min_samples_leaf': 1, 'n_estimators': 110}\n",
      "Best Score (Mean Cross-Validation Accuracy): 0.8037797863599014\n"
     ]
    }
   ],
   "source": [
    "# Defining a grid of hyperparameters for the random forest classifier\n",
    "param_grid = {\n",
    "    'n_estimators': [80, 90, 100, 110, 120],\n",
    "    'max_depth': [8, 9, 10, 11, 12],\n",
    "    'min_samples_leaf': [1, 2, 3],\n",
    "    'max_features': ['auto', 'sqrt']\n",
    "}\n",
    "# Initializing GridSearchCV with the random forest classifier and the hyperparameters grid\n",
    "grid_search = GridSearchCV(estimator=RandomForestClassifier(random_state=42),\n",
    "                           param_grid=param_grid,\n",
    "                           cv=5,\n",
    "                           verbose=2,\n",
    "                           n_jobs=-1)\n",
    "grid_search.fit(X_train, y_train)\n",
    "best_params = grid_search.best_params_\n",
    "best_score = grid_search.best_score_\n",
    "print(f\"Best Hyperparameters: {best_params}\")\n",
    "print(f\"Best Score (Mean Cross-Validation Accuracy): {best_score}\")"
   ],
   "metadata": {
    "collapsed": false,
    "ExecuteTime": {
     "start_time": "2023-08-05T21:19:58.111898Z",
     "end_time": "2023-08-05T21:20:22.001033Z"
    }
   }
  },
  {
   "cell_type": "code",
   "execution_count": 18,
   "outputs": [
    {
     "name": "stderr",
     "output_type": "stream",
     "text": [
      "C:\\Users\\xalzh\\AppData\\Local\\Programs\\Python\\Python310\\lib\\site-packages\\sklearn\\ensemble\\_forest.py:424: FutureWarning: `max_features='auto'` has been deprecated in 1.1 and will be removed in 1.3. To keep the past behaviour, explicitly set `max_features='sqrt'` or remove this parameter as it is also the default value for RandomForestClassifiers and ExtraTreesClassifiers.\n",
      "  warn(\n"
     ]
    },
    {
     "name": "stdout",
     "output_type": "stream",
     "text": [
      "Training Accuracy: 0.8532456861133936\n",
      "Validation Accuracy: 0.7925613496932515\n"
     ]
    }
   ],
   "source": [
    "# Initializing the RandomForestClassifier with the best hyperparameters obtained from grid search\n",
    "clf = RandomForestClassifier(n_estimators=110,\n",
    "                             min_samples_leaf=1,\n",
    "                             max_depth=10,\n",
    "                             max_features='auto',\n",
    "                             random_state=42)\n",
    "\n",
    "clf.fit(X_train, y_train)\n",
    "train_preds = clf.predict(X_train)\n",
    "val_preds = clf.predict(X_val)\n",
    "train_acc = accuracy_score(y_train, train_preds)\n",
    "val_acc = accuracy_score(y_val, val_preds)\n",
    "\n",
    "print(f\"Training Accuracy: {train_acc}\")\n",
    "print(f\"Validation Accuracy: {val_acc}\")"
   ],
   "metadata": {
    "collapsed": false,
    "ExecuteTime": {
     "start_time": "2023-08-05T21:22:46.836910Z",
     "end_time": "2023-08-05T21:22:47.444875Z"
    }
   }
  },
  {
   "cell_type": "code",
   "execution_count": 19,
   "outputs": [
    {
     "name": "stdout",
     "output_type": "stream",
     "text": [
      "<class 'pandas.core.frame.DataFrame'>\n",
      "RangeIndex: 4277 entries, 0 to 4276\n",
      "Data columns (total 12 columns):\n",
      " #   Column        Non-Null Count  Dtype  \n",
      "---  ------        --------------  -----  \n",
      " 0   HomePlanet    4277 non-null   float64\n",
      " 1   CryoSleep     4277 non-null   float64\n",
      " 2   Cabin         4277 non-null   float64\n",
      " 3   Destination   4277 non-null   float64\n",
      " 4   Age           4277 non-null   float64\n",
      " 5   VIP           4277 non-null   float64\n",
      " 6   RoomService   4277 non-null   float64\n",
      " 7   FoodCourt     4277 non-null   float64\n",
      " 8   ShoppingMall  4277 non-null   float64\n",
      " 9   Spa           4277 non-null   float64\n",
      " 10  VRDeck        4277 non-null   float64\n",
      " 11  Transported   4277 non-null   float64\n",
      "dtypes: float64(12)\n",
      "memory usage: 401.1 KB\n"
     ]
    },
    {
     "data": {
      "text/plain": "  PassengerId  Transported\n0     0013_01         True\n1     0018_01        False\n2     0019_01         True\n3     0021_01         True\n4     0023_01         True",
      "text/html": "<div>\n<style scoped>\n    .dataframe tbody tr th:only-of-type {\n        vertical-align: middle;\n    }\n\n    .dataframe tbody tr th {\n        vertical-align: top;\n    }\n\n    .dataframe thead th {\n        text-align: right;\n    }\n</style>\n<table border=\"1\" class=\"dataframe\">\n  <thead>\n    <tr style=\"text-align: right;\">\n      <th></th>\n      <th>PassengerId</th>\n      <th>Transported</th>\n    </tr>\n  </thead>\n  <tbody>\n    <tr>\n      <th>0</th>\n      <td>0013_01</td>\n      <td>True</td>\n    </tr>\n    <tr>\n      <th>1</th>\n      <td>0018_01</td>\n      <td>False</td>\n    </tr>\n    <tr>\n      <th>2</th>\n      <td>0019_01</td>\n      <td>True</td>\n    </tr>\n    <tr>\n      <th>3</th>\n      <td>0021_01</td>\n      <td>True</td>\n    </tr>\n    <tr>\n      <th>4</th>\n      <td>0023_01</td>\n      <td>True</td>\n    </tr>\n  </tbody>\n</table>\n</div>"
     },
     "execution_count": 19,
     "metadata": {},
     "output_type": "execute_result"
    }
   ],
   "source": [
    "# Importing the test dataset from the CSV\n",
    "dataset = pd.read_csv('test.csv')\n",
    "dataset = dataset.drop(['PassengerId', 'Name'], axis=1)\n",
    "dataset['CryoSleep'] = dataset['CryoSleep'].astype(float)\n",
    "dataset['VIP'] = dataset['VIP'].astype(float)\n",
    "dataset['Transported'] = dataset['Transported'].astype(float)\n",
    "label_encoders = {}\n",
    "for column in ['HomePlanet', 'Cabin', 'Destination']:\n",
    "    le = LabelEncoder()\n",
    "    dataset[column] = le.fit_transform(dataset[column]).astype(float)\n",
    "    label_encoders[column] = le\n",
    "dataset.fillna(0, inplace=True)\n",
    "dataset.info()\n",
    "X = dataset.drop(\"Transported\", axis=1).values\n",
    "X_train = torch.tensor(X, dtype=torch.float32)\n",
    "train_preds = clf.predict(X_train)\n",
    "y_pred_binary = [True if prob == 1. else False for prob in train_preds]\n",
    "sample_submission_df = pd.read_csv('sample_submission.csv')\n",
    "sample_submission_df['Transported'] = y_pred_binary\n",
    "sample_submission_df.to_csv('sample_submission.csv', index=False)\n",
    "sample_submission_df.head()"
   ],
   "metadata": {
    "collapsed": false,
    "ExecuteTime": {
     "start_time": "2023-08-05T21:22:51.344839Z",
     "end_time": "2023-08-05T21:22:51.429555Z"
    }
   }
  },
  {
   "cell_type": "code",
   "execution_count": null,
   "outputs": [],
   "source": [],
   "metadata": {
    "collapsed": false
   }
  }
 ],
 "metadata": {
  "kernelspec": {
   "display_name": "Python 3",
   "language": "python",
   "name": "python3"
  },
  "language_info": {
   "codemirror_mode": {
    "name": "ipython",
    "version": 2
   },
   "file_extension": ".py",
   "mimetype": "text/x-python",
   "name": "python",
   "nbconvert_exporter": "python",
   "pygments_lexer": "ipython2",
   "version": "2.7.6"
  }
 },
 "nbformat": 4,
 "nbformat_minor": 0
}
